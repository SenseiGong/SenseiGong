{
  "nbformat": 4,
  "nbformat_minor": 0,
  "metadata": {
    "colab": {
      "provenance": [],
      "authorship_tag": "ABX9TyNV8BmSkONr/RnSzYklGJSQ",
      "include_colab_link": true
    },
    "kernelspec": {
      "name": "python3",
      "display_name": "Python 3"
    },
    "language_info": {
      "name": "python"
    }
  },
  "cells": [
    {
      "cell_type": "markdown",
      "metadata": {
        "id": "view-in-github",
        "colab_type": "text"
      },
      "source": [
        "<a href=\"https://colab.research.google.com/github/SenseiGong/SenseiGong/blob/main/Corso%20Avanzato%20Python%2014-17%20aprile%202025_1.ipynb\" target=\"_parent\"><img src=\"https://colab.research.google.com/assets/colab-badge.svg\" alt=\"Open In Colab\"/></a>"
      ]
    },
    {
      "cell_type": "code",
      "execution_count": 1,
      "metadata": {
        "id": "neYPE4zPO_fM",
        "outputId": "0813d7c4-ad04-423d-a5c6-3c01a578a82c",
        "colab": {
          "base_uri": "https://localhost:8080/"
        }
      },
      "outputs": [
        {
          "output_type": "stream",
          "name": "stdout",
          "text": [
            "Ciao Mondo\n"
          ]
        }
      ],
      "source": [
        "print(\"Ciao Mondo\")"
      ]
    },
    {
      "cell_type": "code",
      "source": [
        "family=['Gionata', 1.71, 'Samuele', 1.78, 'Tommaso', 1.69]\n",
        "print(family[0])\n",
        "print(family[0:3])\n",
        "print(family[:6])"
      ],
      "metadata": {
        "id": "v6VtO3IXQb86",
        "outputId": "a4d23b50-10f7-43f8-d548-0fc6bfdffa55",
        "colab": {
          "base_uri": "https://localhost:8080/"
        }
      },
      "execution_count": 6,
      "outputs": [
        {
          "output_type": "stream",
          "name": "stdout",
          "text": [
            "Gionata\n",
            "['Gionata', 1.71, 'Samuele']\n",
            "['Gionata', 1.71, 'Samuele', 1.78, 'Tommaso', 1.69]\n"
          ]
        }
      ]
    },
    {
      "cell_type": "code",
      "source": [
        "family=[['Gionata', 1.71], ['Samuele', 1.78], ['Tommaso', 1.69]]\n",
        "\n",
        "print(family[0])\n",
        "print(family[1])\n",
        "print(family[:6])"
      ],
      "metadata": {
        "id": "8vj9BxEaRNwK",
        "outputId": "bdd9404e-ab9d-4f10-e619-79b46bde57e9",
        "colab": {
          "base_uri": "https://localhost:8080/"
        }
      },
      "execution_count": 19,
      "outputs": [
        {
          "output_type": "stream",
          "name": "stdout",
          "text": [
            "['Gionata', 1.71]\n",
            "['Samuele', 1.78]\n",
            "[['Gionata', 1.71], ['Samuele', 1.78], ['Tommaso', 1.69]]\n"
          ]
        }
      ]
    },
    {
      "cell_type": "code",
      "source": [
        "bro='Tommaso'\n",
        "bro.replace('mm','X')\n",
        "print(bro)"
      ],
      "metadata": {
        "id": "R_BQt2AOSrzM",
        "outputId": "4c68199e-e6f8-432e-9023-a12aaa53c116",
        "colab": {
          "base_uri": "https://localhost:8080/"
        }
      },
      "execution_count": 28,
      "outputs": [
        {
          "output_type": "stream",
          "name": "stdout",
          "text": [
            "Tommaso\n"
          ]
        }
      ]
    },
    {
      "cell_type": "code",
      "source": [
        "altezza=[1.71,1.68,1.80]\n",
        "peso=[83, 65, 85]\n",
        "peso / altezza ** 2\n",
        "non va"
      ],
      "metadata": {
        "id": "afVGcwQVUKAI",
        "outputId": "eafdbdde-418a-43cb-deec-a0db4a16b5b6",
        "colab": {
          "base_uri": "https://localhost:8080/",
          "height": 108
        }
      },
      "execution_count": 29,
      "outputs": [
        {
          "output_type": "error",
          "ename": "SyntaxError",
          "evalue": "invalid syntax (<ipython-input-29-a52c817a338f>, line 4)",
          "traceback": [
            "\u001b[0;36m  File \u001b[0;32m\"<ipython-input-29-a52c817a338f>\"\u001b[0;36m, line \u001b[0;32m4\u001b[0m\n\u001b[0;31m    non va\u001b[0m\n\u001b[0m        ^\u001b[0m\n\u001b[0;31mSyntaxError\u001b[0m\u001b[0;31m:\u001b[0m invalid syntax\n"
          ]
        }
      ]
    },
    {
      "cell_type": "code",
      "source": [
        "import numpy as np\n",
        "altezza = np.altezza=[1.71,1.68,1.80]\n",
        "peso = np.peso=[83.4, 65.3, 85.8]\n",
        "\n",
        "bmi = peso / (altezza ** 2)\n",
        "return bmi"
      ],
      "metadata": {
        "id": "uFrxV9nLUlZz",
        "outputId": "6c1bd120-d473-4eed-d9bb-9a6cde3dd22c",
        "colab": {
          "base_uri": "https://localhost:8080/",
          "height": 198
        }
      },
      "execution_count": 40,
      "outputs": [
        {
          "output_type": "error",
          "ename": "TypeError",
          "evalue": "unsupported operand type(s) for ** or pow(): 'list' and 'int'",
          "traceback": [
            "\u001b[0;31m---------------------------------------------------------------------------\u001b[0m",
            "\u001b[0;31mTypeError\u001b[0m                                 Traceback (most recent call last)",
            "\u001b[0;32m<ipython-input-40-b7fb99770685>\u001b[0m in \u001b[0;36m<cell line: 0>\u001b[0;34m()\u001b[0m\n\u001b[1;32m      3\u001b[0m \u001b[0mpeso\u001b[0m \u001b[0;34m=\u001b[0m \u001b[0mnp\u001b[0m\u001b[0;34m.\u001b[0m\u001b[0mpeso\u001b[0m\u001b[0;34m=\u001b[0m\u001b[0;34m[\u001b[0m\u001b[0;36m83.4\u001b[0m\u001b[0;34m,\u001b[0m \u001b[0;36m65.3\u001b[0m\u001b[0;34m,\u001b[0m \u001b[0;36m85.8\u001b[0m\u001b[0;34m]\u001b[0m\u001b[0;34m\u001b[0m\u001b[0;34m\u001b[0m\u001b[0m\n\u001b[1;32m      4\u001b[0m \u001b[0;34m\u001b[0m\u001b[0m\n\u001b[0;32m----> 5\u001b[0;31m \u001b[0mbmi\u001b[0m \u001b[0;34m=\u001b[0m \u001b[0mpeso\u001b[0m \u001b[0;34m/\u001b[0m \u001b[0;34m(\u001b[0m\u001b[0maltezza\u001b[0m \u001b[0;34m**\u001b[0m \u001b[0;36m2\u001b[0m\u001b[0;34m)\u001b[0m\u001b[0;34m\u001b[0m\u001b[0;34m\u001b[0m\u001b[0m\n\u001b[0m\u001b[1;32m      6\u001b[0m \u001b[0;32mreturn\u001b[0m \u001b[0mbmi\u001b[0m\u001b[0;34m\u001b[0m\u001b[0;34m\u001b[0m\u001b[0m\n",
            "\u001b[0;31mTypeError\u001b[0m: unsupported operand type(s) for ** or pow(): 'list' and 'int'"
          ]
        }
      ]
    },
    {
      "cell_type": "code",
      "source": [
        "import numpy as np\n",
        "\n",
        "def calcola_bmi(peso, altezza):\n",
        "  \"\"\"\n",
        "  Calcola il Body Mass Index (BMI).\n",
        "\n",
        "  Args:\n",
        "    peso: Un array NumPy o una lista di pesi in chilogrammi.\n",
        "    altezza: Un array NumPy o una lista di altezze in metri.\n",
        "\n",
        "  Returns:\n",
        "    Un array NumPy o una lista di valori BMI.\n",
        "  \"\"\"\n",
        "  # Converti peso e altezza in array NumPy se non lo sono già\n",
        "  peso = np.array(peso)\n",
        "  altezza = np.array(altezza)\n",
        "\n",
        "  # Calcola il BMI\n",
        "  bmi = peso / (altezza ** 2)\n",
        "\n",
        "  return bmi\n",
        "\n",
        "# Dati di esempio\n",
        "altezza = [1.71, 1.68, 1.80]\n",
        "peso = [83, 65, 85]\n",
        "\n",
        "# Calcola il BMI\n",
        "bmi_values = calcola_bmi(peso, altezza)\n",
        "\n",
        "# Stampa i risultati\n",
        "for i, bmi in enumerate(bmi_values):\n",
        "  print(f\"Persona {i+1}: BMI = {bmi:.2f}\")"
      ],
      "metadata": {
        "id": "0Kx_A6CvZ0du",
        "outputId": "4b405b09-cae1-406d-e49a-12e8725c0474",
        "colab": {
          "base_uri": "https://localhost:8080/"
        }
      },
      "execution_count": 41,
      "outputs": [
        {
          "output_type": "stream",
          "name": "stdout",
          "text": [
            "Persona 1: BMI = 28.38\n",
            "Persona 2: BMI = 23.03\n",
            "Persona 3: BMI = 26.23\n"
          ]
        }
      ]
    },
    {
      "cell_type": "code",
      "source": [
        "myarray=np.arange(12).reshape((3,4))\n",
        "myarray [: , :]\n",
        "myarray[:, 0:2]\n",
        "myarray[:, 1]\n",
        "dummy=myarray.copy()\n",
        "dummy[0,:]=-999\n",
        "dummy[:,1]=[100,200,300]\n",
        "dummy"
      ],
      "metadata": {
        "id": "jq1OpqMRaEFH",
        "outputId": "b319c6f4-642a-4e44-ae87-58499c75e374",
        "colab": {
          "base_uri": "https://localhost:8080/"
        }
      },
      "execution_count": 52,
      "outputs": [
        {
          "output_type": "execute_result",
          "data": {
            "text/plain": [
              "array([[-999,  100, -999, -999],\n",
              "       [   4,  200,    6,    7],\n",
              "       [   8,  300,   10,   11]])"
            ]
          },
          "metadata": {},
          "execution_count": 52
        }
      ]
    },
    {
      "cell_type": "code",
      "source": [
        "dummy=np.arange(-10,10).reshape((4,5))\n",
        "dummy\n",
        "mask=dummy>5\n",
        "mask\n",
        "dummy[mask]\n"
      ],
      "metadata": {
        "id": "OVaHmZ6RibYn",
        "outputId": "9cbfc0a6-1bc5-4534-c418-680317ede318",
        "colab": {
          "base_uri": "https://localhost:8080/"
        }
      },
      "execution_count": 58,
      "outputs": [
        {
          "output_type": "execute_result",
          "data": {
            "text/plain": [
              "array([6, 7, 8, 9])"
            ]
          },
          "metadata": {},
          "execution_count": 58
        }
      ]
    },
    {
      "cell_type": "markdown",
      "source": [],
      "metadata": {
        "id": "-SgXH4ovZ0Hn"
      }
    },
    {
      "cell_type": "code",
      "source": [
        "x= np.array([56, 13,2, 8, 12])\n",
        "print(np.sort(x))\n",
        "condition= np.where(x>5, True, False)\n",
        "condition"
      ],
      "metadata": {
        "id": "LqPafMe8i4py",
        "outputId": "b87c330b-ecaa-4ddc-c515-a9cdbe14cd14",
        "colab": {
          "base_uri": "https://localhost:8080/"
        }
      },
      "execution_count": 61,
      "outputs": [
        {
          "output_type": "stream",
          "name": "stdout",
          "text": [
            "[ 2  8 12 13 56]\n"
          ]
        },
        {
          "output_type": "execute_result",
          "data": {
            "text/plain": [
              "array([ True,  True, False,  True,  True])"
            ]
          },
          "metadata": {},
          "execution_count": 61
        }
      ]
    },
    {
      "cell_type": "code",
      "source": [
        "A=np.ones((2,3))\n",
        "print(A)\n",
        "A=A*2\n",
        "A=A**3\n",
        "A"
      ],
      "metadata": {
        "id": "EPYkZGfuk-gH",
        "outputId": "328f6e11-9c96-43d8-a91f-574e201ebee1",
        "colab": {
          "base_uri": "https://localhost:8080/"
        }
      },
      "execution_count": 75,
      "outputs": [
        {
          "output_type": "stream",
          "name": "stdout",
          "text": [
            "[[1. 1. 1.]\n",
            " [1. 1. 1.]]\n"
          ]
        },
        {
          "output_type": "execute_result",
          "data": {
            "text/plain": [
              "array([[8., 8., 8.],\n",
              "       [8., 8., 8.]])"
            ]
          },
          "metadata": {},
          "execution_count": 75
        }
      ]
    },
    {
      "cell_type": "code",
      "source": [
        "A=np.ones((2,3))\n",
        "print(A)\n",
        "B= A*2\n",
        "print(B)\n",
        "C=np.add(B,A)\n",
        "print(C)\n",
        "D=np.multiply(A,B,out=np.zeros((2,3), where[[True, True, True], [False, False, False]]))\n",
        "D"
      ],
      "metadata": {
        "id": "B9jQXdVfl_va",
        "outputId": "c12218c0-2c91-4d16-ac90-e9ed8ff678a9",
        "colab": {
          "base_uri": "https://localhost:8080/",
          "height": 305
        }
      },
      "execution_count": 89,
      "outputs": [
        {
          "output_type": "stream",
          "name": "stdout",
          "text": [
            "[[1. 1. 1.]\n",
            " [1. 1. 1.]]\n",
            "[[2. 2. 2.]\n",
            " [2. 2. 2.]]\n",
            "[[3. 3. 3.]\n",
            " [3. 3. 3.]]\n"
          ]
        },
        {
          "output_type": "error",
          "ename": "NameError",
          "evalue": "name 'where' is not defined",
          "traceback": [
            "\u001b[0;31m---------------------------------------------------------------------------\u001b[0m",
            "\u001b[0;31mNameError\u001b[0m                                 Traceback (most recent call last)",
            "\u001b[0;32m<ipython-input-89-4d3107c5b8ae>\u001b[0m in \u001b[0;36m<cell line: 0>\u001b[0;34m()\u001b[0m\n\u001b[1;32m      5\u001b[0m \u001b[0mC\u001b[0m\u001b[0;34m=\u001b[0m\u001b[0mnp\u001b[0m\u001b[0;34m.\u001b[0m\u001b[0madd\u001b[0m\u001b[0;34m(\u001b[0m\u001b[0mB\u001b[0m\u001b[0;34m,\u001b[0m\u001b[0mA\u001b[0m\u001b[0;34m)\u001b[0m\u001b[0;34m\u001b[0m\u001b[0;34m\u001b[0m\u001b[0m\n\u001b[1;32m      6\u001b[0m \u001b[0mprint\u001b[0m\u001b[0;34m(\u001b[0m\u001b[0mC\u001b[0m\u001b[0;34m)\u001b[0m\u001b[0;34m\u001b[0m\u001b[0;34m\u001b[0m\u001b[0m\n\u001b[0;32m----> 7\u001b[0;31m \u001b[0mD\u001b[0m\u001b[0;34m=\u001b[0m\u001b[0mnp\u001b[0m\u001b[0;34m.\u001b[0m\u001b[0mmultiply\u001b[0m\u001b[0;34m(\u001b[0m\u001b[0mA\u001b[0m\u001b[0;34m,\u001b[0m\u001b[0mB\u001b[0m\u001b[0;34m,\u001b[0m\u001b[0mout\u001b[0m\u001b[0;34m=\u001b[0m\u001b[0mnp\u001b[0m\u001b[0;34m.\u001b[0m\u001b[0mzeros\u001b[0m\u001b[0;34m(\u001b[0m\u001b[0;34m(\u001b[0m\u001b[0;36m2\u001b[0m\u001b[0;34m,\u001b[0m\u001b[0;36m3\u001b[0m\u001b[0;34m)\u001b[0m\u001b[0;34m,\u001b[0m  \u001b[0mwhere\u001b[0m\u001b[0;34m[\u001b[0m\u001b[0;34m[\u001b[0m\u001b[0;32mTrue\u001b[0m\u001b[0;34m,\u001b[0m \u001b[0;32mTrue\u001b[0m\u001b[0;34m,\u001b[0m \u001b[0;32mTrue\u001b[0m\u001b[0;34m]\u001b[0m\u001b[0;34m,\u001b[0m \u001b[0;34m[\u001b[0m\u001b[0;32mFalse\u001b[0m\u001b[0;34m,\u001b[0m \u001b[0;32mFalse\u001b[0m\u001b[0;34m,\u001b[0m \u001b[0;32mFalse\u001b[0m\u001b[0;34m]\u001b[0m\u001b[0;34m]\u001b[0m\u001b[0;34m)\u001b[0m\u001b[0;34m)\u001b[0m\u001b[0;34m\u001b[0m\u001b[0;34m\u001b[0m\u001b[0m\n\u001b[0m\u001b[1;32m      8\u001b[0m \u001b[0mD\u001b[0m\u001b[0;34m\u001b[0m\u001b[0;34m\u001b[0m\u001b[0m\n",
            "\u001b[0;31mNameError\u001b[0m: name 'where' is not defined"
          ]
        }
      ]
    },
    {
      "cell_type": "code",
      "source": [
        "dummy=np.ones((4,3,2))\n",
        "dummy"
      ],
      "metadata": {
        "id": "IPjMdgx3n20Y",
        "outputId": "45295543-dafe-40aa-aa75-41c169c2267d",
        "colab": {
          "base_uri": "https://localhost:8080/"
        }
      },
      "execution_count": 92,
      "outputs": [
        {
          "output_type": "execute_result",
          "data": {
            "text/plain": [
              "array([[[1., 1.],\n",
              "        [1., 1.],\n",
              "        [1., 1.]],\n",
              "\n",
              "       [[1., 1.],\n",
              "        [1., 1.],\n",
              "        [1., 1.]],\n",
              "\n",
              "       [[1., 1.],\n",
              "        [1., 1.],\n",
              "        [1., 1.]],\n",
              "\n",
              "       [[1., 1.],\n",
              "        [1., 1.],\n",
              "        [1., 1.]]])"
            ]
          },
          "metadata": {},
          "execution_count": 92
        }
      ]
    },
    {
      "cell_type": "code",
      "source": [
        "dummy=np.ones((4,3,2))\n",
        "dummy.sum(axis=0)\n",
        "dummy.sum()\n",
        "dummy.sum(axis=1)\n",
        "dummy.sum(axis=1).shape"
      ],
      "metadata": {
        "id": "xl30eHqloEMH",
        "outputId": "cb694f83-4d10-4f1c-a06c-688f8c62fc84",
        "colab": {
          "base_uri": "https://localhost:8080/"
        }
      },
      "execution_count": 99,
      "outputs": [
        {
          "output_type": "execute_result",
          "data": {
            "text/plain": [
              "(4, 2)"
            ]
          },
          "metadata": {},
          "execution_count": 99
        }
      ]
    },
    {
      "cell_type": "markdown",
      "source": [
        "Conditional Functions\n"
      ],
      "metadata": {
        "id": "vsWNo48spMKX"
      }
    },
    {
      "cell_type": "code",
      "source": [
        "A=np.full((2,3),4)\n",
        "print(A)\n",
        "B=np.full_like(A,-10)\n",
        "print(B)\n",
        "C=np.arange(6).reshape(2,3)\n",
        "C\n",
        "np.where(C>3, A ,B)\n"
      ],
      "metadata": {
        "id": "iymhWYz3pQHq",
        "outputId": "4b511a7d-7373-4fd1-e92e-b278af5d90f3",
        "colab": {
          "base_uri": "https://localhost:8080/"
        }
      },
      "execution_count": 106,
      "outputs": [
        {
          "output_type": "stream",
          "name": "stdout",
          "text": [
            "[[4 4 4]\n",
            " [4 4 4]]\n",
            "[[-10 -10 -10]\n",
            " [-10 -10 -10]]\n"
          ]
        },
        {
          "output_type": "execute_result",
          "data": {
            "text/plain": [
              "array([[-10, -10, -10],\n",
              "       [-10,   4,   4]])"
            ]
          },
          "metadata": {},
          "execution_count": 106
        }
      ]
    },
    {
      "cell_type": "markdown",
      "source": [
        "Broadcasting"
      ],
      "metadata": {
        "id": "mS8nNBNgqJyW"
      }
    },
    {
      "cell_type": "code",
      "source": [],
      "metadata": {
        "id": "cGZJuHCDqLZ-"
      },
      "execution_count": null,
      "outputs": []
    }
  ]
}